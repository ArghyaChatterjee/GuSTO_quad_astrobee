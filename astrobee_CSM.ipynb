{
 "cells": [
  {
   "cell_type": "markdown",
   "metadata": {},
   "source": [
    "# Freeflyer Example"
   ]
  },
  {
   "cell_type": "markdown",
   "metadata": {},
   "source": [
    "### Script / GuSTO Initialization"
   ]
  },
  {
   "cell_type": "code",
   "execution_count": 9,
   "metadata": {},
   "outputs": [
    {
     "name": "stderr",
     "output_type": "stream",
     "text": [
      "┌ Info: Precompiling Plots [91a5bcdd-55d7-5caf-9e0b-520d859cae80]\n",
      "└ @ Base loading.jl:1260\n"
     ]
    },
    {
     "data": {
      "text/plain": [
       "(100.0, 1.0, 1.0e9, 0.001, 10.0, 20.0, 2.0, 0.5, 5.0, 2.5)"
      ]
     },
     "execution_count": 9,
     "metadata": {},
     "output_type": "execute_result"
    }
   ],
   "source": [
    "# Initializing script\n",
    "include(\"astrobee_se3_script.jl\")\n",
    "\n",
    "# Number of time-discretization points and maximum number of GuSTO iterations\n",
    "N, max_it = 30, 100\n",
    "\n",
    "# Defining the model, the initial strategy and each convex subproblem\n",
    "model      = AstrobeeSE3()\n",
    "Xp,Up      = initialize_trajectory(model,N)\n",
    "SCPproblem = GuSTOProblem(model,N,Xp,Up)\n",
    "\n",
    "# Defining GuSTO parameters\n",
    "(Delta0, omega0, omegamax, epsilon, rho0,\n",
    "        rho1, beta_succ, beta_fail, gamma_fail, \n",
    "        convergence_threshold) = get_initial_gusto_parameters(model)"
   ]
  },
  {
   "cell_type": "markdown",
   "metadata": {},
   "source": [
    "### GuSTO Algorithm"
   ]
  },
  {
   "cell_type": "code",
   "execution_count": 10,
   "metadata": {
    "scrolled": true
   },
   "outputs": [
    {
     "name": "stdout",
     "output_type": "stream",
     "text": [
      "-----------\n",
      "Iteration 1\n",
      "-----------\n",
      "Accept solution.\n",
      "Parameters:\n",
      "metric = 34.60108854043027\n",
      "-----------\n",
      "Iteration 2\n",
      "-----------\n",
      "Accept solution.\n",
      "Parameters:\n",
      "metric = 22.90293713730372\n",
      "-----------\n",
      "Iteration 3\n",
      "-----------\n",
      "Accept solution.\n",
      "Parameters:\n",
      "metric = 3.6996784115272408\n",
      "-----------\n",
      "Iteration 4\n",
      "-----------\n",
      "Accept solution.\n",
      "Parameters:\n",
      "metric = 0.7546628831500439\n"
     ]
    }
   ],
   "source": [
    "# Defining penalization weights, trust-region radius and the list of solutions\n",
    "Xp,Up        = initialize_trajectory(model,N)\n",
    "X, U         = copy(Xp), copy(Up)\n",
    "omega, Delta = omega0, Delta0\n",
    "X_all, U_all = [], []\n",
    "push!(X_all, copy(X))\n",
    "push!(U_all, copy(U))\n",
    "\n",
    "# GuSTO loop\n",
    "success, it = false, 1\n",
    "while it < max_it                                                               && \n",
    "      !(success && convergence_metric(model,X,U,Xp,Up) < convergence_threshold) &&\n",
    "      omega < omegamax\n",
    "    println(\"-----------\\nIteration $it\\n-----------\")\n",
    "    \n",
    "    # Storing the solution at the previous step and the linearized dynamics\n",
    "    Xp, Up                    = copy(X), copy(U)\n",
    "    model.f, model.A, model.B = compute_dynamics(model,Xp,Up)\n",
    "    \n",
    "    # Defining the convex subproblem\n",
    "    reset_problem(     SCPproblem, model)\n",
    "    set_parameters(    SCPproblem, model, Xp, Up, omega, Delta)\n",
    "    define_cost(       SCPproblem, model)\n",
    "    define_constraints(SCPproblem, model)\n",
    "    \n",
    "    # Solving the convex subproblem\n",
    "    JuMP.optimize!(SCPproblem.solver_model)\n",
    "    X_sol, U_sol = JuMP.value.(SCPproblem.X), JuMP.value.(SCPproblem.U)\n",
    "    \n",
    "    # -----------\n",
    "    # GuSTO Logic\n",
    "    \n",
    "    # Trust-region constraints are satisfied\n",
    "    if is_in_trust_region(model,X_sol,U_sol,Xp,Up,Delta)\n",
    "        \n",
    "        # Computing accuracy ratio rho\n",
    "        rho = accuracy_ratio(SCPproblem,model,X_sol,U_sol,Xp,Up)\n",
    "\n",
    "        # Too coarse linearization: reject solution\n",
    "        if rho > rho1\n",
    "            println(\"Reject solution (the linearization is too coarse).\")\n",
    "            Delta, omega = beta_fail*Delta, omega\n",
    "            success      = false\n",
    "        \n",
    "        # Accepting solution\n",
    "        else\n",
    "            println(\"Accept solution.\")\n",
    "            X, U    = copy(X_sol), copy(U_sol)\n",
    "            success = true\n",
    "            \n",
    "            # Check precision of linearization\n",
    "            if rho < rho0\n",
    "                Delta = min(beta_succ*Delta,Delta0) # Optimal / Precise \n",
    "            else\n",
    "                Delta = Delta                       # Imprecise - bad\n",
    "            end\n",
    "            \n",
    "            # Check satisfaction of state constraints\n",
    "            if satisfies_state_inequality_constraints(SCPproblem,model,X_sol,U_sol,Xp,Up,Delta)\n",
    "                omega = omega0 # All constraints are satisfied - good\n",
    "            else\n",
    "                # State constraints are not satisfied: increase penalization weights\n",
    "                println(\"Solution does not satisfy state constraints, increasing omega.\")\n",
    "                omega   = gamma_fail*omega\n",
    "                success = false\n",
    "            end\n",
    "        end\n",
    "        \n",
    "    # Trust-region constraints are NOT satisfied\n",
    "    else\n",
    "        println(\"Reject solution (the trust region constraints are not satisfied).\")\n",
    "        Delta   = Delta\n",
    "        omega   = gamma_fail*omega\n",
    "        success = false\n",
    "    end\n",
    "\n",
    "    # Collecting the solution at each iteration\n",
    "    push!(X_all,copy(X))\n",
    "    push!(U_all,copy(U))\n",
    "    it += 1\n",
    "    \n",
    "    println(\"Parameters:\")\n",
    "#     println(\"omega  = $omega\")\n",
    "#     println(\"delta  = $Delta\")\n",
    "    println(\"metric = $(convergence_metric(model,X,U,Xp,Up))\")\n",
    "#     println(\" \")\n",
    "end\n"
   ]
  },
  {
   "cell_type": "markdown",
   "metadata": {},
   "source": [
    "### Plotting the solution"
   ]
  },
  {
   "cell_type": "code",
   "execution_count": null,
   "metadata": {},
   "outputs": [
    {
     "name": "stderr",
     "output_type": "stream",
     "text": [
      "┌ Info: Precompiling PyPlot [d330b81b-6aea-500a-939a-2ce795aea3ee]\n",
      "└ @ Base loading.jl:1260\n"
     ]
    }
   ],
   "source": [
    "# NOTE: run this cell tow times\n",
    "\n",
    "# Collecting the final control\n",
    "timeSpan = zeros(N)\n",
    "timeSpanControl = zeros(N-1)\n",
    "constraint = zeros(N)\n",
    "constraint[1] = obstacle_constraint(model,X_all[end],U_all[end],X_all[end-1],U_all[end-1],1,1)\n",
    "control1 = zeros(N-1)\n",
    "control2 = zeros(N-1)\n",
    "for i = 1:N-1\n",
    "    timeSpan[i+1] = timeSpan[i] + model.tf/N\n",
    "    if i < N-1\n",
    "        timeSpanControl[i+1] = timeSpan[i] + model.tf/N\n",
    "    end\n",
    "    constraint[i+1] = obstacle_constraint(model,X_all[end],U_all[end],X_all[end-1],U_all[end-1],i,1)\n",
    "    control1[i] = norm(U_all[end][1:3,i])\n",
    "    control2[i] = norm(U_all[end][4:6,i])\n",
    "end\n",
    "\n",
    "# Plotting the final control\n",
    "p1 = plot(timeSpanControl,control1,linewidth=3,label=\"\",xlabel=\"Time (s)\",ylabel=\"Euclidean Norm of the Translational Control\")\n",
    "p2 = plot(timeSpanControl,control2,linewidth=3,label=\"\",xlabel=\"Time (s)\",ylabel=\"Euclidean Norm of the Rotational Control\")\n",
    "\n",
    "# Plotting the trajectory at different SCP iterations\n",
    "p3 = plot3D_solutions(SCPproblem, model, X_all[1:end], U_all[1:end])\n",
    "\n",
    "plot(p1,p2,p3,layout=(1,3))"
   ]
  }
 ],
 "metadata": {
  "kernelspec": {
   "display_name": "Julia 1.4.1",
   "language": "julia",
   "name": "julia-1.4"
  },
  "language_info": {
   "file_extension": ".jl",
   "mimetype": "application/julia",
   "name": "julia",
   "version": "1.4.1"
  }
 },
 "nbformat": 4,
 "nbformat_minor": 2
}
