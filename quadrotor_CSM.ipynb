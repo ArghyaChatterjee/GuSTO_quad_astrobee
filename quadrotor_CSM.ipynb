{
 "cells": [
  {
   "cell_type": "markdown",
   "metadata": {},
   "source": [
    "# Quadrotor Example\n",
    "\n"
   ]
  },
  {
   "cell_type": "code",
   "execution_count": 1,
   "metadata": {
    "scrolled": true
   },
   "outputs": [],
   "source": [
    "# If first time running this code on a personal computer\n",
    "# using Pkg\n",
    "# Pkg.instantiate()"
   ]
  },
  {
   "cell_type": "markdown",
   "metadata": {},
   "source": [
    "### Script / GuSTO Initialization"
   ]
  },
  {
   "cell_type": "code",
   "execution_count": 2,
   "metadata": {},
   "outputs": [
    {
     "data": {
      "text/plain": [
       "(100.0, 500.0, 1.0e6, 0.001, 5.0, 10.0, 2.0, 0.5, 5.0, 2.5)"
      ]
     },
     "execution_count": 2,
     "metadata": {},
     "output_type": "execute_result"
    }
   ],
   "source": [
    "# Initializing script\n",
    "include(\"quadrotor_script.jl\")\n",
    "\n",
    "# Number of time-discretization points and maximum number of GuSTO iterations\n",
    "N, max_it = 30, 20\n",
    "\n",
    "# Defining the model, the initial strategy and each convex subproblem\n",
    "model      = Quadrotor()\n",
    "Xp,Up      = initialize_trajectory(model,N)\n",
    "SCPproblem = GuSTOProblem(model,N,Xp,Up)\n",
    "\n",
    "# Defining GuSTO parameters\n",
    "(Delta0, omega0, omegamax, epsilon, rho0,\n",
    "        rho1, beta_succ, beta_fail, gamma_fail, \n",
    "        convergence_threshold) = get_initial_gusto_parameters(model)"
   ]
  },
  {
   "cell_type": "markdown",
   "metadata": {},
   "source": [
    "## GuSTO Algorithm"
   ]
  },
  {
   "cell_type": "code",
   "execution_count": null,
   "metadata": {
    "scrolled": true
   },
   "outputs": [
    {
     "name": "stdout",
     "output_type": "stream",
     "text": [
      "-----------\n",
      "Iteration 1\n",
      "-----------\n",
      "\n",
      "******************************************************************************\n",
      "This program contains Ipopt, a library for large-scale nonlinear optimization.\n",
      " Ipopt is released as open source code under the Eclipse Public License (EPL).\n",
      "         For more information visit http://projects.coin-or.org/Ipopt\n",
      "******************************************************************************\n",
      "\n",
      "Accept solution.\n",
      "Parameters:\n",
      "omega  = 500.0; Delta = 100.0\n",
      "metric = 63.25741117408185\n",
      "-----------\n",
      "Iteration 2\n",
      "-----------\n",
      "Accept solution.\n",
      "Parameters:\n",
      "omega  = 500.0; Delta = 100.0\n",
      "metric = 17.219903587998253\n",
      "-----------\n",
      "Iteration 3\n",
      "-----------\n",
      "Accept solution.\n",
      "Parameters:\n",
      "omega  = 500.0; Delta = 100.0\n",
      "metric = 9.263742663870223\n",
      "-----------\n",
      "Iteration 4\n",
      "-----------\n",
      "Accept solution.\n",
      "Parameters:\n",
      "omega  = 500.0; Delta = 100.0\n",
      "metric = 2.0209450319527758\n",
      ">>> Finished <<<"
     ]
    }
   ],
   "source": [
    "# Defining penalization weights, trust-region radius and the list of solutions\n",
    "include(\"SCP/gusto_problem.jl\")\n",
    "Xp,Up        = initialize_trajectory(model,N)\n",
    "X, U         = copy(Xp), copy(Up)\n",
    "omega, Delta = omega0, Delta0\n",
    "X_all, U_all = [], []\n",
    "push!(X_all, copy(X))\n",
    "push!(U_all, copy(U))\n",
    "\n",
    "# GuSTO loop\n",
    "success, it = false, 1\n",
    "while it < max_it                                                               && \n",
    "      !(success && convergence_metric(model,X,U,Xp,Up) < convergence_threshold) &&\n",
    "      omega < omegamax\n",
    "    println(\"-----------\\nIteration $it\\n-----------\")\n",
    "    \n",
    "    # Storing the solution at the previous step and the linearized dynamics\n",
    "    Xp, Up                    = copy(X), copy(U)\n",
    "    model.f, model.A, model.B = compute_dynamics(model,Xp,Up)\n",
    "    \n",
    "    # Defining the convex subproblem\n",
    "    reset_problem(     SCPproblem, model)\n",
    "    set_parameters(    SCPproblem, model, Xp, Up, omega, Delta)\n",
    "    define_cost(       SCPproblem, model)\n",
    "    define_constraints(SCPproblem, model)\n",
    "    \n",
    "    # Solving the convex subproblem\n",
    "    JuMP.optimize!(SCPproblem.solver_model)\n",
    "    X_sol, U_sol = JuMP.value.(SCPproblem.X), JuMP.value.(SCPproblem.U)\n",
    "    \n",
    "    # -----------\n",
    "    # GuSTO Logic\n",
    "    \n",
    "    # Trust-region constraints are satisfied\n",
    "    if is_in_trust_region(model,X_sol,U_sol,Xp,Up,Delta)\n",
    "        \n",
    "        # Computing accuracy ratio rho\n",
    "        rho = accuracy_ratio(SCPproblem,model,X_sol,U_sol,Xp,Up)\n",
    "\n",
    "        # Too coarse linearization: reject solution\n",
    "        if rho > rho1\n",
    "            println(\"Reject solution (the linearization is too coarse).\")\n",
    "            Delta, omega = beta_fail*Delta, omega\n",
    "            success      = false\n",
    "        \n",
    "        # Accepting solution\n",
    "        else\n",
    "            println(\"Accept solution.\")\n",
    "            X, U    = copy(X_sol), copy(U_sol)\n",
    "            success = true\n",
    "            \n",
    "            # Check precision of linearization\n",
    "            if rho < rho0\n",
    "                Delta = min(beta_succ*Delta,Delta0) # Optimal / Precise \n",
    "            else\n",
    "                Delta = Delta                       # Imprecise - bad\n",
    "            end\n",
    "            \n",
    "            # Check satisfaction of state constraints\n",
    "            if satisfies_state_inequality_constraints(SCPproblem,model,X_sol,U_sol,Xp,Up,Delta)\n",
    "                # All constraints are satisfied - good\n",
    "                omega = omega0\n",
    "            else\n",
    "                # State constraints are not satisfied: increase penalization weights\n",
    "                println(\"Solution does not satisfy state constraints, increasing omega.\")\n",
    "                omega   = gamma_fail*omega\n",
    "                success = false\n",
    "            end\n",
    "        end\n",
    "        \n",
    "    # Trust-region constraints are NOT satisfied\n",
    "    else\n",
    "        println(\"Reject solution (the trust region constraints are not satisfied).\")\n",
    "        Delta   = Delta\n",
    "        omega   = gamma_fail*omega\n",
    "        success = false\n",
    "    end\n",
    "\n",
    "    # Collecting the solution at each iteration\n",
    "    push!(X_all,copy(X))\n",
    "    push!(U_all,copy(U))\n",
    "    it += 1\n",
    "    \n",
    "    println(\"Parameters:\")\n",
    "    println(\"omega  = $omega; Delta = $Delta\")\n",
    "    println(\"metric = $(convergence_metric(model,X,U,Xp,Up))\")\n",
    "end\n",
    "\n",
    "print(\">>> Finished <<<\")"
   ]
  },
  {
   "cell_type": "markdown",
   "metadata": {},
   "source": [
    "# Plots"
   ]
  },
  {
   "cell_type": "code",
   "execution_count": null,
   "metadata": {},
   "outputs": [],
   "source": [
    "import PyPlot; const plt = PyPlot\n",
    "include(\"quadrotor_script.jl\")"
   ]
  },
  {
   "cell_type": "markdown",
   "metadata": {},
   "source": [
    "## Plot of SCP iterations"
   ]
  },
  {
   "cell_type": "code",
   "execution_count": null,
   "metadata": {},
   "outputs": [],
   "source": [
    "include(\"quadrotor_script.jl\")\n",
    "plt_solutions(SCPproblem, model, X_all, U_all)\n",
    "print(\"Done Plotting\")"
   ]
  },
  {
   "cell_type": "code",
   "execution_count": null,
   "metadata": {},
   "outputs": [],
   "source": [
    "include(\"quadrotor_script.jl\")\n",
    "plt_solutions(SCPproblem, model, X_all, U_all, \n",
    "                xlims=[0.55,0.85], ylims=[1.75,2.45], figsize=(3,2), B_plot_labels=false)\n",
    "plt_solutions(SCPproblem, model, X_all, U_all, \n",
    "                xlims=[2.2,2.5], ylims=[4.4,5.3], figsize=(3,2), B_plot_labels=false)\n",
    "print(\"Done Plotting\")"
   ]
  },
  {
   "cell_type": "markdown",
   "metadata": {},
   "source": [
    "## Multiple plots of the final solution"
   ]
  },
  {
   "cell_type": "code",
   "execution_count": null,
   "metadata": {},
   "outputs": [],
   "source": [
    "include(\"quadrotor_script.jl\")\n",
    "plt_final_solution(SCPproblem, model, X_all[end], U_all[end])\n",
    "print(\"Done Plotting\")"
   ]
  },
  {
   "cell_type": "code",
   "execution_count": null,
   "metadata": {},
   "outputs": [],
   "source": [
    "include(\"quadrotor_script.jl\")\n",
    "plt_final_angle_accel(SCPproblem, model, X_all[end], U_all[end])\n",
    "print(\"Done Plotting\")"
   ]
  }
 ],
 "metadata": {
  "kernelspec": {
   "display_name": "Julia 1.4.1",
   "language": "julia",
   "name": "julia-1.4"
  },
  "language_info": {
   "file_extension": ".jl",
   "mimetype": "application/julia",
   "name": "julia",
   "version": "1.4.1"
  }
 },
 "nbformat": 4,
 "nbformat_minor": 2
}
